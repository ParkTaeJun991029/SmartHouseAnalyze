{
 "cells": [
  {
   "cell_type": "markdown",
   "id": "bf8d0b4f",
   "metadata": {},
   "source": [
    "# 필요한 라이브러리 호출"
   ]
  },
  {
   "cell_type": "code",
   "execution_count": null,
   "id": "91dfebf0",
   "metadata": {},
   "outputs": [],
   "source": [
    "\n",
    "import pandas as pd\n",
    "import numpy as np\n",
    "import datetime\n",
    "import glob\n",
    "import os\n",
    "import datetime\n",
    "import matplotlib.pyplot as plt\n",
    "import seaborn as sns\n",
    "from tqdm import tqdm"
   ]
  },
  {
   "cell_type": "markdown",
   "id": "b3434b3a",
   "metadata": {},
   "source": [
    "# 데이터 가져오기"
   ]
  },
  {
   "cell_type": "code",
   "execution_count": null,
   "id": "9ce4554c",
   "metadata": {},
   "outputs": [],
   "source": [
    "############ 전통조명 미터링 데이터 ############\n",
    "csv_list_td = [\n",
    "    '20201101_20201130.csv',\n",
    "    '20201201_20201231.csv',\n",
    "    '20210101_20210131.csv',\n",
    "    '20210201_20210228.csv',\n",
    "    '20210301_20210331.csv',\n",
    "    '20210401_20210430.csv',\n",
    "    '20210501_20210531.csv',\n",
    "    '20210601_20210630.csv',\n",
    "    '20210701_20210731.csv',\n",
    "    '20210801_20210831.csv',\n",
    "    '20210901_20210930.csv',\n",
    "    '20211001_20211031.csv',\n",
    "    '20211101_20211130.csv',\n",
    "    '20211201_20211231.csv',\n",
    "    '20220101_20220131.csv',\n",
    "    '20220201_20220228.csv',\n",
    "    '20220301_20220331.csv',\n",
    "    '20220401_20220430.csv',\n",
    "    '20220501_20220531.csv',\n",
    "    '20220601_20220630.csv',\n",
    "    '20220701_20220731.csv',\n",
    "    '20220801_20220831.csv',\n",
    "    '20220901_20220930.csv',\n",
    "    '20221001_20221031.csv',\n",
    "    '20221101_20221130.csv',\n",
    "    '20221201_20221231.csv',\n",
    "]\n",
    "\n",
    "df_td = pd.DataFrame()\n",
    "for n in csv_list_td:\n",
    "    df_td_tmp = pd.read_csv('D:/주거_조명/2020_2021_2022/' + n)\n",
    "    df_td = pd.concat([df_td, df_td_tmp])"
   ]
  },
  {
   "cell_type": "markdown",
   "id": "b8e8898b",
   "metadata": {},
   "source": [
    "# 미터링게이트웨이 Report 데이터에 포함된 세대수 가져오기"
   ]
  },
  {
   "cell_type": "code",
   "execution_count": null,
   "id": "c91cdee7",
   "metadata": {},
   "outputs": [],
   "source": [
    "#대표세대수 가져옴\n",
    "all_data=pd.read_csv('D:/주거조명_미터링/어울림하트아파트_대표세대수.csv',encoding='Euc-KR')\n",
    "all_data=all_data.drop(['Unnamed: 0'],axis=1)\n",
    "#데이터 db 콜럼명 미터링 GID로 맞추기\n",
    "df_td=df_td.rename(columns={'GID':'미터링_GID'})\n",
    "#DB에서 대표 mgwgid선정한 mgwgid만 가져오기\n",
    "result=pd.merge(df_td,all_data,how='outer',indicator=True)\n",
    "result\n",
    "mgwgid=result.query('_merge==\"both\"').drop(columns=['_merge'])"
   ]
  },
  {
   "cell_type": "markdown",
   "id": "e35fd793",
   "metadata": {},
   "source": [
    "# 데이터 결측치 찾기 "
   ]
  },
  {
   "cell_type": "code",
   "execution_count": null,
   "id": "9ba78274",
   "metadata": {},
   "outputs": [],
   "source": [
    "#mgwgid별로 데이터 프레임 만들기\n",
    "#data_mgwgid번호_해당년도\n",
    "for i in gid1_set:\n",
    "    for j in year:\n",
    "        globals()['data_'+str(i)+'_'+str(j)]=mgwgid.loc[(mgwgid['미터링_GID']==i)&(pd.to_datetime(mgwgid['USE_DATETIME']).dt.year==j)]\n",
    "        globals()['data_'+str(i)+'_'+str(j)].loc[:,\"USE_DATETIME\"]=globals()['data_'+str(i)+'_'+str(j)].loc[:,'USE_DATETIME'].values.astype('<M8[m]')\n",
    "        globals()['data_'+str(i)+'_'+str(j)]=globals()['data_'+str(i)+'_'+str(j)].reset_index(drop=True)\n",
    "        globals()['data_'+str(i)+'_'+str(j)]= globals()['data_'+str(i)+'_'+str(j)].drop(['ACTIVE_CURRENT','ACTIVE_VOLTAGE','PF','CRTR_YN','상태_GID','건물 ID','설치_유무'],axis=1)\n",
    "\n",
    "        \n",
    "#mgwgid별로 연도별로 나눈 누락된 시간 데이터프레임 만들기\n",
    "#누락시간대 날짜와 시간을 열로 만들어서 추가\n",
    "#miss_mgwgid번호_년도\n",
    "for p in gid1_set:\n",
    "    for j in year:\n",
    "        globals()['b_'+str(p)+'_'+str(j)]=pd.date_range((globals()['data_'+str(p)+'_'+str(j)]).loc[0,\"USE_DATETIME\"],(globals()['data_'+str(p) + '_'+str(j)]).loc[len(globals()['data_'+str(p)+'_'+str(j)])-1,'USE_DATETIME'],freq='T')\n",
    "        globals()['please_'+str(p)+'_'+str(j)]=pd.DataFrame(globals()['b_'+str(p)+'_'+str(j)])\n",
    "        globals()['please_'+str(p)+'_'+str(j)].columns=['USE_DATETIME']\n",
    "        globals()['semi_'+str(p)+'_'+str(j)]=pd.merge(globals()['data_'+str(p)+'_'+str(j)],globals()['please_'+str(p)+'_'+str(j)],how='outer',indicator=True)\n",
    "        globals()['miss_'+str(p)+'_'+str(j)]=globals()['semi_'+str(p)+'_'+str(j)].query('_merge==\"right_only\"').drop(columns=['_merge'])\n",
    "\n",
    "        \n",
    "#누락시간대 날짜와 연도 시간 분 을 열로 만들어서 추가\n",
    "for i in gid1_set:\n",
    "    for j in year:\n",
    "        globals()['miss_'+str(i)+'_'+str(j)].loc[:,'miss_Year']=pd.to_datetime(globals()['miss_'+str(i)+'_'+str(j)].loc[:,'USE_DATETIME']).dt.year\n",
    "        globals()['miss_'+str(i)+'_'+str(j)].loc[:,'miss_month']=pd.to_datetime(globals()['miss_'+str(i)+'_'+str(j)].loc[:,'USE_DATETIME']).dt.month\n",
    "        globals()['miss_'+str(i)+'_'+str(j)].loc[:,'miss_DAY']=pd.to_datetime(globals()['miss_'+str(i)+'_'+str(j)].loc[:,'USE_DATETIME']).dt.day\n",
    "        globals()['miss_'+str(i)+'_'+str(j)].loc[:,'miss_DAY_hour']=pd.to_datetime(globals()['miss_'+str(i)+'_'+str(j)].loc[:,'USE_DATETIME']).dt.hour\n",
    "        globals()['miss_'+str(i)+'_'+str(j)].loc[:,'miss_DAY_miniute']=pd.to_datetime(globals()['miss_'+str(i)+'_'+str(j)].loc[:,'USE_DATETIME']).dt.minute\n",
    "        globals()['miss_'+str(i)+'_'+str(j)]=globals()['miss_'+str(i)+'_'+str(j)].dropna(axis=1)\n",
    "        \n",
    "        \n",
    "#연도별로 나눈 것을 다 합치기\n",
    "#mgwgid별로 누락된 시간 데이터프레임 만들기\n",
    "\n",
    "for i in gid1_set:\n",
    "        globals()['miss_'+str(i)]=pd.concat([globals()['miss_'+str(i)+'_2020'],globals()['miss_'+str(i)+'_2021'],globals()['miss_'+str(i)+'_2022']])\n",
    "        \n",
    "        \n",
    "#연도별로 월별과 일별에 따라 몇분 누락되었는지 분류\n",
    "#gid_mgwgid번호_miss_group\n",
    "for i in gid1_set:    \n",
    "    globals()['gid_'+str(i)+'_miss_group']=(globals()['miss_'+str(i)])['miss_DAY_miniute'].groupby([(globals()['miss_'+str(i)])['miss_Year'],(globals()['miss_'+str(i)])['miss_month'],(globals()['miss_'+str(i)])['miss_DAY']]).count().to_frame()\n",
    "    \n",
    "#연도별로 월별과 일별에 따라 몇분 누락되었는지 분류\n",
    "#gid_mgwgid번호_miss_group\n",
    "for i in gid1_set:    \n",
    "    globals()['gid_'+str(i)+'_miss_group']=(globals()['miss_'+str(i)])['miss_DAY_miniute'].groupby([(globals()['miss_'+str(i)])['miss_Year'],(globals()['miss_'+str(i)])['miss_month'],(globals()['miss_'+str(i)])['miss_DAY']]).count().to_frame()  \n",
    "    \n",
    "#데이터프레임 너무 많아서 연도별로 나눈거 만듬\n",
    "#gid_mgwgid번호_해당년도_miss_group\n",
    "for i in gid1_set:\n",
    "    for j in year:\n",
    "        globals()['gid_'+str(i)+'_'+str(j)+'_miss_group']=(globals()['miss_'+str(i)+'_'+str(j)])['miss_DAY_miniute'].groupby([(globals()['miss_'+str(i)+'_'+str(j)])['miss_Year'],(globals()['miss_'+str(i)+'_'+str(j)])['miss_month'],(globals()['miss_'+str(i)+'_'+str(j)])['miss_DAY']]).count().to_frame()    \n",
    "    \n",
    "\n",
    "#5분 이상 누락된 데이터만 출력\n",
    "#gid_mgwgid번호_miss_group_5분이상누락\n",
    "for i in gid1_set:\n",
    "    globals()['gid_'+str(i)+'_miss_group_5분이상누락']= (globals()['gid_'+str(i)+'_miss_group'])[(globals()['gid_'+str(i)+'_miss_group'])['miss_DAY_miniute']>5]\n",
    "    globals()['gid_'+str(i)+'_miss_group_5분이상누락']=globals()['gid_'+str(i)+'_miss_group_5분이상누락'].rename(columns={'miss_DAY_miniute':'total missing time(miniute)'})\n",
    "\n",
    "#년도까지 포함해서 나누기    \n",
    "for i in gid1_set:\n",
    "    for j in year:\n",
    "        globals()['gid_'+str(i)+'_'+str(j)+'_miss_group_5분이상누락']= (globals()['gid_'+str(i)+'_'+str(j)+'_miss_group'])[(globals()['gid_'+str(i)+'_'+str(j)+'_miss_group'])['miss_DAY_miniute']>5]\n",
    "        globals()['gid_'+str(i)+'_'+str(j)+'_miss_group_5분이상누락']=globals()['gid_'+str(i)+'_'+str(j)+'_miss_group_5분이상누락'].rename(columns={'miss_DAY_miniute':'total missing time(miniute)'})\n",
    "        globals()['len_'+str(i)+'_'+str(j)+'_miss_group_5분이상누락']=len(globals()['gid_'+str(i)+'_'+str(j)+'_miss_group_5분이상누락'])"
   ]
  }
 ],
 "metadata": {
  "hide_input": false,
  "kernelspec": {
   "display_name": "Python 3 (ipykernel)",
   "language": "python",
   "name": "python3"
  },
  "language_info": {
   "codemirror_mode": {
    "name": "ipython",
    "version": 3
   },
   "file_extension": ".py",
   "mimetype": "text/x-python",
   "name": "python",
   "nbconvert_exporter": "python",
   "pygments_lexer": "ipython3",
   "version": "3.9.13"
  },
  "toc": {
   "base_numbering": 1,
   "nav_menu": {},
   "number_sections": true,
   "sideBar": true,
   "skip_h1_title": false,
   "title_cell": "Table of Contents",
   "title_sidebar": "Contents",
   "toc_cell": false,
   "toc_position": {},
   "toc_section_display": true,
   "toc_window_display": false
  },
  "varInspector": {
   "cols": {
    "lenName": 16,
    "lenType": 16,
    "lenVar": 40
   },
   "kernels_config": {
    "python": {
     "delete_cmd_postfix": "",
     "delete_cmd_prefix": "del ",
     "library": "var_list.py",
     "varRefreshCmd": "print(var_dic_list())"
    },
    "r": {
     "delete_cmd_postfix": ") ",
     "delete_cmd_prefix": "rm(",
     "library": "var_list.r",
     "varRefreshCmd": "cat(var_dic_list()) "
    }
   },
   "types_to_exclude": [
    "module",
    "function",
    "builtin_function_or_method",
    "instance",
    "_Feature"
   ],
   "window_display": false
  }
 },
 "nbformat": 4,
 "nbformat_minor": 5
}
